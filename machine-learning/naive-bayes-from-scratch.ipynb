{
 "cells": [
  {
   "cell_type": "code",
   "execution_count": 1,
   "metadata": {
    "collapsed": false
   },
   "outputs": [
    {
     "name": "stdout",
     "output_type": "stream",
     "text": [
      "Populating the interactive namespace from numpy and matplotlib\n"
     ]
    }
   ],
   "source": [
    "# Import the required modules\n",
    "%pylab inline\n",
    "import numpy as np"
   ]
  },
  {
   "cell_type": "code",
   "execution_count": 2,
   "metadata": {
    "collapsed": false
   },
   "outputs": [],
   "source": [
    "'''\n",
    "Class for performing classification using Gaussian Naive Bayes. \n",
    "'''\n",
    "class naive_bayes():\n",
    "    # Get the observed data and the class labels and \n",
    "    # calculate the mean and variance for each class label\n",
    "    def __init__(self, x, y):\n",
    "        self.mean_0 = np.mean([x_i for x_i, y_i in zip(x, y) if y_i == 0])\n",
    "        self.var_0 = np.std([x_i for x_i, y_i in zip(x, y) if y_i == 0])**2\n",
    "        self.mean_1 = np.mean([x_i for x_i, y_i in zip(x, y) if y_i == 1])\n",
    "        self.var_1 = np.std([x_i for x_i, y_i in zip(x, y) if y_i == 1])**2\n",
    "    # The prior probabilities\n",
    "    def prior(self, prior):\n",
    "        self.priori = prior\n",
    "    # Likelihood of observing some data\n",
    "    def likelihood(self, x, true=True):\n",
    "        if true:\n",
    "            return 1 / sqrt(2.*np.pi*self.var_1) * np.exp(-(x-self.mean_1)**2/(2.*self.var_1))\n",
    "        else:\n",
    "            return 1 / sqrt(2.*np.pi*self.var_0) * np.exp(-(x-self.mean_0)**2/(2.*self.var_0))\n",
    "    # Posterior Probabilities \n",
    "    def posterior(self, x):\n",
    "        p_0 = self.priori[0]*self.likelihood(x, False)\n",
    "        p_1 = self.priori[1]*self.likelihood(x, True)\n",
    "        # print \"Probability of True = {}\".format(p_0)\n",
    "        # print \"Probability of False = {}\".format(p_1)\n",
    "        if  p_0 > p_1:\n",
    "            return 0\n",
    "        else:\n",
    "            return 1"
   ]
  },
  {
   "cell_type": "code",
   "execution_count": 3,
   "metadata": {
    "collapsed": false
   },
   "outputs": [
    {
     "name": "stdout",
     "output_type": "stream",
     "text": [
      "\n",
      "50 of 50 correctly classified\n"
     ]
    }
   ],
   "source": [
    "# x is list of 1:50\n",
    "x = range(50)\n",
    "# y is list \n",
    "y = zeros(50)\n",
    "y[25:] = 1\n",
    "print \n",
    "nb = naive_bayes(x, y)\n",
    "nb.prior([1/2., 1/2.])\n",
    "t = map(nb.posterior, x)\n",
    "print \"{} of {} correctly classified\".format(sum(t == y), len(y))"
   ]
  }
 ],
 "metadata": {
  "kernelspec": {
   "display_name": "Python 2",
   "language": "python",
   "name": "python2"
  },
  "language_info": {
   "codemirror_mode": {
    "name": "ipython",
    "version": 2
   },
   "file_extension": ".py",
   "mimetype": "text/x-python",
   "name": "python",
   "nbconvert_exporter": "python",
   "pygments_lexer": "ipython2",
   "version": "2.7.6"
  }
 },
 "nbformat": 4,
 "nbformat_minor": 0
}
